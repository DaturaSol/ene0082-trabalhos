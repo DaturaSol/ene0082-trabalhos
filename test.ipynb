{
 "cells": [
  {
   "cell_type": "markdown",
   "metadata": {},
   "source": [
    "Connected to .venv (Python 3.13.2)"
   ]
  },
  {
   "cell_type": "markdown",
   "id": "f3780088-8cae-4a15-bfbf-762569328d25",
   "metadata": {},
   "source": [
    " # Manual PyTorch Linear Regression for Wine Quality\n",
    "\n",
    " Implementing the core steps without the d2l library initially to understand the process."
   ]
  },
  {
   "cell_type": "code",
   "execution_count": 19,
   "id": "362c073f-9fbd-40c6-9f2e-31bf75e15c0b",
   "metadata": {},
   "outputs": [],
   "source": [
    "import pandas as pd\n",
    "import torch\n",
    "import numpy as np\n",
    "from sklearn.model_selection import train_test_split\n",
    "from sklearn.preprocessing import StandardScaler\n",
    "from torch.utils.data import TensorDataset, DataLoader\n",
    "import matplotlib.pyplot as plt\n",
    "from scipy.stats import pearsonr # For correlation\n",
    "\n",
    "# Ensure reproducibility\n",
    "torch.manual_seed(42)\n",
    "np.random.seed(42)"
   ]
  },
  {
   "cell_type": "code",
   "execution_count": 20,
   "id": "42a9e53e-c562-4ceb-9a6e-8638d8306dd8",
   "metadata": {},
   "outputs": [
    {
     "name": "stdout",
     "output_type": "stream",
     "text": [
      "Data loaded successfully.\n",
      "Shape: (6497, 13)\n",
      "Columns: ['type', 'fixed acidity', 'volatile acidity', 'citric acid', 'residual sugar', 'chlorides', 'free sulfur dioxide', 'total sulfur dioxide', 'density', 'pH', 'sulphates', 'alcohol', 'quality']\n",
      "\n",
      "Info:\n",
      "<class 'pandas.core.frame.DataFrame'>\n",
      "RangeIndex: 6497 entries, 0 to 6496\n",
      "Data columns (total 13 columns):\n",
      " #   Column                Non-Null Count  Dtype  \n",
      "---  ------                --------------  -----  \n",
      " 0   type                  6497 non-null   object \n",
      " 1   fixed acidity         6487 non-null   float64\n",
      " 2   volatile acidity      6489 non-null   float64\n",
      " 3   citric acid           6494 non-null   float64\n",
      " 4   residual sugar        6495 non-null   float64\n",
      " 5   chlorides             6495 non-null   float64\n",
      " 6   free sulfur dioxide   6497 non-null   float64\n",
      " 7   total sulfur dioxide  6497 non-null   float64\n",
      " 8   density               6497 non-null   float64\n",
      " 9   pH                    6488 non-null   float64\n",
      " 10  sulphates             6493 non-null   float64\n",
      " 11  alcohol               6497 non-null   float64\n",
      " 12  quality               6497 non-null   int64  \n",
      "dtypes: float64(11), int64(1), object(1)\n",
      "memory usage: 660.0+ KB\n"
     ]
    }
   ],
   "source": [
    "# Load the dataset\n",
    "# Assuming the file is named 'winequality.csv' and is in the same directory\n",
    "try:\n",
    "    df = pd.read_csv('./data/winequalityN.csv')\n",
    "    print(\"Data loaded successfully.\")\n",
    "    print(\"Shape:\", df.shape)\n",
    "    print(\"Columns:\", df.columns.tolist())\n",
    "    print(\"\\nInfo:\")\n",
    "    df.info()\n",
    "except FileNotFoundError:\n",
    "    print(\"Error: winequality.csv not found. Please make sure the file is in the correct directory.\")\n",
    "    # Create a dummy DataFrame if file not found, just to allow code structure to run\n",
    "    # Replace this with your actual file path or ensure the file is present\n",
    "    data_dummy = {\n",
    "        'type': ['white', 'red', 'white', 'red'],\n",
    "        'fixed acidity': [7.0, 6.2, 8.1, 5.9],\n",
    "        'volatile acidity': [0.27, 0.60, 0.28, 0.65],\n",
    "        'citric acid': [0.36, 0.08, 0.40, 0.12],\n",
    "        'residual sugar': [20.7, 2.0, 6.9, 2.0],\n",
    "        'chlorides': [0.045, 0.090, 0.050, 0.075],\n",
    "        'free sulfur dioxide': [45.0, 32.0, 30.0, 32.0],\n",
    "        'total sulfur dioxide': [170.0, 44.0, 97.0, 44.0],\n",
    "        'density': [1.0010, 0.9949, 0.9951, 0.99547],\n",
    "        'pH': [3.00, 3.45, 3.26, 3.57],\n",
    "        'sulphates': [0.45, 0.58, 0.44, 0.71],\n",
    "        'alcohol': [8.8, 10.5, 10.1, 10.2],\n",
    "        'quality': [6, 5, 6, 5]\n",
    "    }\n",
    "    df = pd.DataFrame(data_dummy)\n",
    "    print(\"\\nUsing dummy data as winequality.csv was not found.\")"
   ]
  },
  {
   "cell_type": "markdown",
   "id": "e18332a9-f536-4057-aa65-cab580168c0a",
   "metadata": {},
   "source": [
    " ### Handle Categorical Feature ('type')"
   ]
  },
  {
   "cell_type": "code",
   "execution_count": 21,
   "id": "c61e4ccf-ad2f-4c25-b915-9a64b6de1e5d",
   "metadata": {},
   "outputs": [
    {
     "name": "stdout",
     "output_type": "stream",
     "text": [
      "\n",
      "DataFrame after dummy encoding:\n",
      "   fixed acidity  volatile acidity  citric acid  residual sugar  chlorides  \\\n",
      "0            7.0              0.27         0.36            20.7      0.045   \n",
      "1            6.3              0.30         0.34             1.6      0.049   \n",
      "2            8.1              0.28         0.40             6.9      0.050   \n",
      "3            7.2              0.23         0.32             8.5      0.058   \n",
      "4            7.2              0.23         0.32             8.5      0.058   \n",
      "\n",
      "   free sulfur dioxide  total sulfur dioxide  density    pH  sulphates  \\\n",
      "0                 45.0                 170.0   1.0010  3.00       0.45   \n",
      "1                 14.0                 132.0   0.9940  3.30       0.49   \n",
      "2                 30.0                  97.0   0.9951  3.26       0.44   \n",
      "3                 47.0                 186.0   0.9956  3.19       0.40   \n",
      "4                 47.0                 186.0   0.9956  3.19       0.40   \n",
      "\n",
      "   alcohol  quality  type_red  type_white  \n",
      "0      8.8        6       0.0         1.0  \n",
      "1      9.5        6       0.0         1.0  \n",
      "2     10.1        6       0.0         1.0  \n",
      "3      9.9        6       0.0         1.0  \n",
      "4      9.9        6       0.0         1.0  \n",
      "\n",
      "Columns after dummy encoding: ['fixed acidity', 'volatile acidity', 'citric acid', 'residual sugar', 'chlorides', 'free sulfur dioxide', 'total sulfur dioxide', 'density', 'pH', 'sulphates', 'alcohol', 'quality', 'type_red', 'type_white']\n"
     ]
    }
   ],
   "source": [
    "# Convert 'type' column to dummy variables\n",
    "# 'white' and 'red' will become boolean columns (0 or 1)\n",
    "df = pd.get_dummies(df, columns=['type'], dtype=float) # Use dtype=float to ensure numeric\n",
    "\n",
    "print(\"\\nDataFrame after dummy encoding:\")\n",
    "print(df.head())\n",
    "print(\"\\nColumns after dummy encoding:\", df.columns.tolist())"
   ]
  },
  {
   "cell_type": "markdown",
   "id": "2d61d343-13c5-48e4-bf56-18da9e2d5ab0",
   "metadata": {},
   "source": [
    " ### Handle Missing Values"
   ]
  },
  {
   "cell_type": "code",
   "execution_count": 22,
   "id": "b22bf823-7368-4ea6-b6d7-2280345517ba",
   "metadata": {},
   "outputs": [
    {
     "name": "stdout",
     "output_type": "stream",
     "text": [
      "\n",
      "Missing values per column before imputation:\n",
      "fixed acidity           10\n",
      "volatile acidity         8\n",
      "citric acid              3\n",
      "residual sugar           2\n",
      "chlorides                2\n",
      "free sulfur dioxide      0\n",
      "total sulfur dioxide     0\n",
      "density                  0\n",
      "pH                       9\n",
      "sulphates                4\n",
      "alcohol                  0\n",
      "quality                  0\n",
      "type_red                 0\n",
      "type_white               0\n",
      "dtype: int64\n",
      "\n",
      "Missing values per column after imputation:\n",
      "fixed acidity           0\n",
      "volatile acidity        0\n",
      "citric acid             0\n",
      "residual sugar          0\n",
      "chlorides               0\n",
      "free sulfur dioxide     0\n",
      "total sulfur dioxide    0\n",
      "density                 0\n",
      "pH                      0\n",
      "sulphates               0\n",
      "alcohol                 0\n",
      "quality                 0\n",
      "type_red                0\n",
      "type_white              0\n",
      "dtype: int64\n"
     ]
    }
   ],
   "source": [
    "print(\"\\nMissing values per column before imputation:\")\n",
    "print(df.isnull().sum())\n",
    "\n",
    "# Impute missing values using the mean of each column\n",
    "# Mean is calculated *before* train/test split, which is a simple approach.\n",
    "# A more robust approach would be to calculate mean only on training data.\n",
    "# Let's stick to the simple approach for now as per homework suggestions.\n",
    "df = df.fillna(df.mean())\n",
    "\n",
    "print(\"\\nMissing values per column after imputation:\")\n",
    "print(df.isnull().sum())\n",
    "\n",
    "# Check if any NaNs remain (should be zero)\n",
    "if df.isnull().sum().sum() > 0:\n",
    "    print(\"Warning: NaNs still present after imputation!\")"
   ]
  },
  {
   "cell_type": "markdown",
   "id": "21855461-1eda-4822-b9be-7580581206f1",
   "metadata": {},
   "source": [
    " ### Separate Features (X) and Target (y)"
   ]
  },
  {
   "cell_type": "code",
   "execution_count": 23,
   "id": "b0938ee5-3307-4aaa-833b-95d539e71ba2",
   "metadata": {},
   "outputs": [
    {
     "name": "stdout",
     "output_type": "stream",
     "text": [
      "\n",
      "Shape of X: (6497, 13)\n",
      "Shape of y: (6497,)\n",
      "\n",
      "First 5 rows of X (features):\n",
      "   fixed acidity  volatile acidity  citric acid  residual sugar  chlorides  \\\n",
      "0            7.0              0.27         0.36            20.7      0.045   \n",
      "1            6.3              0.30         0.34             1.6      0.049   \n",
      "2            8.1              0.28         0.40             6.9      0.050   \n",
      "3            7.2              0.23         0.32             8.5      0.058   \n",
      "4            7.2              0.23         0.32             8.5      0.058   \n",
      "\n",
      "   free sulfur dioxide  total sulfur dioxide  density    pH  sulphates  \\\n",
      "0                 45.0                 170.0   1.0010  3.00       0.45   \n",
      "1                 14.0                 132.0   0.9940  3.30       0.49   \n",
      "2                 30.0                  97.0   0.9951  3.26       0.44   \n",
      "3                 47.0                 186.0   0.9956  3.19       0.40   \n",
      "4                 47.0                 186.0   0.9956  3.19       0.40   \n",
      "\n",
      "   alcohol  type_red  type_white  \n",
      "0      8.8       0.0         1.0  \n",
      "1      9.5       0.0         1.0  \n",
      "2     10.1       0.0         1.0  \n",
      "3      9.9       0.0         1.0  \n",
      "4      9.9       0.0         1.0  \n",
      "\n",
      "First 5 values of y (target):\n",
      "0    6\n",
      "1    6\n",
      "2    6\n",
      "3    6\n",
      "4    6\n",
      "Name: quality, dtype: int64\n"
     ]
    }
   ],
   "source": [
    "X = df.drop('quality', axis=1)\n",
    "y = df['quality']\n",
    "\n",
    "print(\"\\nShape of X:\", X.shape)\n",
    "print(\"Shape of y:\", y.shape)\n",
    "print(\"\\nFirst 5 rows of X (features):\")\n",
    "print(X.head())\n",
    "print(\"\\nFirst 5 values of y (target):\")\n",
    "print(y.head())"
   ]
  },
  {
   "cell_type": "markdown",
   "id": "a16d14df-ecf6-4797-b1aa-c4c6e26703e2",
   "metadata": {},
   "source": [
    " ### Split Data into Training and Validation Sets"
   ]
  },
  {
   "cell_type": "code",
   "execution_count": 24,
   "id": "476d829c-f14a-4266-ad26-cbbe6332a2a2",
   "metadata": {},
   "outputs": [
    {
     "name": "stdout",
     "output_type": "stream",
     "text": [
      "\n",
      "Shape of training features (X_train): (5197, 13)\n",
      "Shape of validation features (X_val): (1300, 13)\n",
      "Shape of training target (y_train): (5197,)\n",
      "Shape of validation target (y_val): (1300,)\n"
     ]
    }
   ],
   "source": [
    "# Using sklearn's train_test_split\n",
    "X_train, X_val, y_train, y_val = train_test_split(X, y, test_size=0.2, random_state=42) # Use random_state for reproducibility\n",
    "\n",
    "print(\"\\nShape of training features (X_train):\", X_train.shape)\n",
    "print(\"Shape of validation features (X_val):\", X_val.shape)\n",
    "print(\"Shape of training target (y_train):\", y_train.shape)\n",
    "print(\"Shape of validation target (y_val):\", y_val.shape)"
   ]
  },
  {
   "cell_type": "markdown",
   "id": "3127615e-4aca-44f0-b27d-2f9eb0048d0e",
   "metadata": {},
   "source": [
    " ### Feature Scaling (Normalization)"
   ]
  },
  {
   "cell_type": "code",
   "execution_count": 25,
   "id": "9bbb57fb-7d7d-46cc-b443-bcff4fc46780",
   "metadata": {},
   "outputs": [
    {
     "name": "stdout",
     "output_type": "stream",
     "text": [
      "\n",
      "Shape of scaled training features: (5197, 13)\n",
      "Shape of scaled validation features: (1300, 13)\n",
      "\n",
      "Mean of scaled X_train: [ 1.21340519e-16  8.98945254e-17  2.33794127e-16 -4.44345563e-18\n",
      "  3.55476450e-17  6.15247703e-17  9.91232410e-17 -1.10830038e-14\n",
      " -1.37063516e-16 -5.00059661e-16 -4.79893208e-16 -1.23049541e-17\n",
      " -1.40823363e-16]\n",
      "Std Dev of scaled X_train: [1. 1. 1. 1. 1. 1. 1. 1. 1. 1. 1. 1. 1.]\n"
     ]
    }
   ],
   "source": [
    "# Use StandardScaler to normalize features.\n",
    "# Fit on training data, transform both training and validation data.\n",
    "scaler = StandardScaler()\n",
    "\n",
    "X_train_scaled = scaler.fit_transform(X_train)\n",
    "X_val_scaled = scaler.transform(X_val) # Use the *same* scaler fitted on training data\n",
    "\n",
    "print(\"\\nShape of scaled training features:\", X_train_scaled.shape)\n",
    "print(\"Shape of scaled validation features:\", X_val_scaled.shape)\n",
    "print(\"\\nMean of scaled X_train:\", np.mean(X_train_scaled, axis=0)) # Should be close to 0\n",
    "print(\"Std Dev of scaled X_train:\", np.std(X_train_scaled, axis=0)) # Should be close to 1"
   ]
  },
  {
   "cell_type": "markdown",
   "id": "40a8548c-03cf-4e63-ac1b-bd4a11b2177d",
   "metadata": {},
   "source": [
    " ### Convert to PyTorch Tensors"
   ]
  },
  {
   "cell_type": "code",
   "execution_count": 26,
   "id": "7cb1cd8e-b14e-4467-98d3-02e777beb423",
   "metadata": {},
   "outputs": [
    {
     "name": "stdout",
     "output_type": "stream",
     "text": [
      "\n",
      "Shape of X_train_tensor: torch.Size([5197, 13])\n",
      "Shape of y_train_tensor: torch.Size([5197, 1])\n",
      "Shape of X_val_tensor: torch.Size([1300, 13])\n",
      "Shape of y_val_tensor: torch.Size([1300, 1])\n"
     ]
    }
   ],
   "source": [
    "# Convert NumPy arrays to PyTorch tensors\n",
    "# Ensure dtype is float32 for inputs and targets for typical network layers/loss functions\n",
    "X_train_tensor = torch.tensor(X_train_scaled, dtype=torch.float32)\n",
    "y_train_tensor = torch.tensor(y_train.values, dtype=torch.float32).unsqueeze(1) # .values to get numpy array, unsqueeze(1) adds a dimension for consistency with model output shape (batch_size, 1)\n",
    "\n",
    "X_val_tensor = torch.tensor(X_val_scaled, dtype=torch.float32)\n",
    "y_val_tensor = torch.tensor(y_val.values, dtype=torch.float32).unsqueeze(1)\n",
    "\n",
    "print(\"\\nShape of X_train_tensor:\", X_train_tensor.shape)\n",
    "print(\"Shape of y_train_tensor:\", y_train_tensor.shape)\n",
    "print(\"Shape of X_val_tensor:\", X_val_tensor.shape)\n",
    "print(\"Shape of y_val_tensor:\", y_val_tensor.shape)"
   ]
  },
  {
   "cell_type": "markdown",
   "id": "c23e2236-0a9c-4cb3-bf32-3b447a7c73d3",
   "metadata": {},
   "source": [
    " ### Create DataLoaders"
   ]
  },
  {
   "cell_type": "code",
   "execution_count": 27,
   "id": "0f2d132d-d019-4397-b4da-38d2e4f0843e",
   "metadata": {},
   "outputs": [
    {
     "name": "stdout",
     "output_type": "stream",
     "text": [
      "\n",
      "Created DataLoaders.\n",
      "Number of training batches: 163\n",
      "Number of validation batches: 41\n"
     ]
    }
   ],
   "source": [
    "# Use standard PyTorch TensorDataset and DataLoader\n",
    "batch_size = 32\n",
    "\n",
    "train_dataset = TensorDataset(X_train_tensor, y_train_tensor)\n",
    "train_loader = DataLoader(train_dataset, batch_size=batch_size, shuffle=True) # Shuffle training data\n",
    "\n",
    "val_dataset = TensorDataset(X_val_tensor, y_val_tensor)\n",
    "val_loader = DataLoader(val_dataset, batch_size=batch_size, shuffle=False) # Do not shuffle validation data\n",
    "\n",
    "print(\"\\nCreated DataLoaders.\")\n",
    "print(f\"Number of training batches: {len(train_loader)}\")\n",
    "print(f\"Number of validation batches: {len(val_loader)}\")"
   ]
  },
  {
   "cell_type": "markdown",
   "id": "10785ac3-cc55-4aa0-9940-46451d38d06d",
   "metadata": {},
   "source": [
    " ## 2. Model Definition"
   ]
  },
  {
   "cell_type": "code",
   "execution_count": 28,
   "id": "6f552a0b-f1cf-421e-8837-d698fabe2686",
   "metadata": {},
   "outputs": [
    {
     "name": "stdout",
     "output_type": "stream",
     "text": [
      "\n",
      "Model created:\n",
      "SimpleLinearRegression(\n",
      "  (linear): Linear(in_features=13, out_features=1, bias=True)\n",
      ")\n"
     ]
    }
   ],
   "source": [
    "# Define the simple linear regression model using torch.nn.Module\n",
    "class SimpleLinearRegression(torch.nn.Module):\n",
    "    def __init__(self, input_dim):\n",
    "        super().__init__()\n",
    "        # torch.nn.Linear automatically handles weights and bias\n",
    "        self.linear = torch.nn.Linear(input_dim, 1)\n",
    "\n",
    "        # Initialize weights and bias as suggested by the professor\n",
    "        # Access .data to modify weights/bias directly without tracking gradients\n",
    "        self.linear.weight.data.normal_(0, 0.01)\n",
    "        self.linear.bias.data.fill_(0)\n",
    "\n",
    "    def forward(self, x):\n",
    "        return self.linear(x)\n",
    "\n",
    "# Get the input dimension from the scaled training data\n",
    "input_dim = X_train_tensor.shape[1]\n",
    "\n",
    "# Instantiate the model\n",
    "model = SimpleLinearRegression(input_dim)\n",
    "\n",
    "print(\"\\nModel created:\")\n",
    "print(model)"
   ]
  },
  {
   "cell_type": "markdown",
   "id": "6084b585-a823-4c87-898f-e2e9d78d3920",
   "metadata": {},
   "source": [
    " ## 3. Loss Function and Optimizer"
   ]
  },
  {
   "cell_type": "code",
   "execution_count": null,
   "id": "d8128da1-f8e1-4d5c-8bd7-fb6a2bf97d50",
   "metadata": {},
   "outputs": [
    {
     "name": "stdout",
     "output_type": "stream",
     "text": [
      "\n",
      "Using MSELoss and SGD optimizer with learning rate = 0.01\n"
     ]
    }
   ],
   "source": [
    "# Mean Squared Error (MSE) loss for regression\n",
    "loss_fn = torch.nn.MSELoss()\n",
    "\n",
    "# Stochastic Gradient Descent (SGD) optimizer\n",
    "# Pass model.parameters() to the optimizer\n",
    "# The professor suggested a low learning rate (e.g., 10^-5) if divergence occurs without scaling.\n",
    "# WITH scaling, we can usually use a higher learning rate. Let's start with a small one and try increasing it if performance is poor.\n",
    "# A rate like 0.01 or even 0.1 might be appropriate after scaling. Let's try 0.01 first.\n",
    "learning_rate = 1e-2\n",
    "optimizer = torch.optim.SGD(model.parameters(), lr=learning_rate)\n",
    "\n",
    "print(f\"\\nUsing MSELoss and SGD optimizer with learning rate = {learning_rate}\")"
   ]
  },
  {
   "cell_type": "markdown",
   "id": "97882f82-fa0f-46e8-a18d-d6834d245378",
   "metadata": {},
   "source": [
    " ## 4. Training Loop"
   ]
  },
  {
   "cell_type": "code",
   "execution_count": null,
   "id": "b6cb0943-4712-41eb-af86-c306bf04a5a7",
   "metadata": {},
   "outputs": [
    {
     "name": "stdout",
     "output_type": "stream",
     "text": [
      "\n",
      "Starting training...\n",
      "Epoch [50/200], Train Loss: 0.5580, Val Loss: 0.4753\n",
      "Epoch [100/200], Train Loss: 0.5563, Val Loss: 0.4779\n",
      "Epoch [150/200], Train Loss: 0.5573, Val Loss: 0.4808\n",
      "Epoch [200/200], Train Loss: 0.5558, Val Loss: 0.4817\n"
     ]
    }
   ],
   "source": [
    "num_epochs = 200 # Start with a reasonable number of epochs\n",
    "\n",
    "train_losses = []\n",
    "val_losses = []\n",
    "\n",
    "print(\"\\nStarting training...\")\n",
    "\n",
    "for epoch in range(num_epochs):\n",
    "    # Training phase\n",
    "    model.train() # Set model to training mode\n",
    "    total_train_loss = 0\n",
    "\n",
    "    for inputs, targets in train_loader:\n",
    "        # Forward pass\n",
    "        outputs = model(inputs)\n",
    "        loss = loss_fn(outputs, targets)\n",
    "\n",
    "        # Backward pass and optimize\n",
    "        optimizer.zero_grad() # Clear previous gradients\n",
    "        loss.backward()       # Calculate gradients\n",
    "        optimizer.step()      # Update weights\n",
    "\n",
    "        total_train_loss += loss.item()\n",
    "\n",
    "    avg_train_loss = total_train_loss / len(train_loader)\n",
    "    train_losses.append(avg_train_loss)\n",
    "\n",
    "    # Validation phase\n",
    "    model.eval() # Set model to evaluation mode\n",
    "    total_val_loss = 0\n",
    "    with torch.no_grad(): # Disable gradient calculation for validation\n",
    "        for inputs, targets in val_loader:\n",
    "            outputs = model(inputs)\n",
    "            loss: torch.Tensor = loss_fn(outputs, targets)\n",
    "            total_val_loss += loss.item()\n",
    "\n",
    "    avg_val_loss = total_val_loss / len(val_loader)\n",
    "    val_losses.append(avg_val_loss)\n",
    "\n",
    "    # Print progress\n",
    "    if (epoch + 1) % 50 == 0: # Print every 10 epochs\n",
    "        print(f'Epoch [{epoch+1:_}/{num_epochs:_}], Train Loss: {avg_train_loss:.4f}, Val Loss: {avg_val_loss:.4f}')"
   ]
  },
  {
   "cell_type": "markdown",
   "id": "141e46af-d282-4636-b6a2-73b7eff7d842",
   "metadata": {},
   "source": [
    " ### Plotting Loss"
   ]
  },
  {
   "cell_type": "code",
   "execution_count": 40,
   "id": "0fd5c363-f37a-4ba2-b144-057dd7a24bdc",
   "metadata": {},
   "outputs": [
    {
     "data": {
      "image/png": "[encoded data removed]",
      "text/plain": [
       "<Figure size 1000x500 with 1 Axes>"
      ]
     },
     "metadata": {},
     "output_type": "display_data"
    }
   ],
   "source": [
    "plt.figure(figsize=(10, 5))\n",
    "plt.plot(train_losses[1:], label='Train Loss')\n",
    "plt.plot(val_losses[1:], label='Validation Loss')\n",
    "plt.xlabel('Epoch')\n",
    "plt.ylabel('MSE Loss')\n",
    "plt.title('Training and Validation Loss over Epochs')\n",
    "plt.legend()\n",
    "plt.grid(True)\n",
    "plt.show()"
   ]
  },
  {
   "cell_type": "markdown",
   "id": "46fdb72b-9cd7-4dfc-8c1f-348b63b2e3b1",
   "metadata": {},
   "source": [
    " ## 5. Evaluation"
   ]
  },
  {
   "cell_type": "markdown",
   "id": "db2860fd-c494-4196-a54e-051a29196c6e",
   "metadata": {},
   "source": [
    " Evaluate the model on the **validation set** using the required metrics."
   ]
  },
  {
   "cell_type": "code",
   "execution_count": 32,
   "id": "116fbf0b-d696-4c8c-81cb-8c28c6cf8c62",
   "metadata": {},
   "outputs": [],
   "source": [
    "# Set model to evaluation mode and disable gradients\n",
    "model.eval()\n",
    "with torch.no_grad():\n",
    "    # Get predictions on the entire validation set\n",
    "    val_predictions_tensor = model(X_val_tensor)\n",
    "\n",
    "# Convert tensors to NumPy arrays for metric calculations\n",
    "val_predictions = val_predictions_tensor.cpu().numpy()\n",
    "y_val_np = y_val_tensor.cpu().numpy()\n",
    "\n",
    "# Ensure predictions and targets have the same shape (batch_size, 1) or (batch_size,)\n",
    "# y_val_np is (batch_size, 1) due to unsqueeze, val_predictions is (batch_size, 1)\n",
    "# Let's flatten them for easier metric calculations\n",
    "val_predictions = val_predictions.flatten()\n",
    "y_val_np = y_val_np.flatten()"
   ]
  },
  {
   "cell_type": "markdown",
   "id": "1e3e8055-83ac-44fe-b0a2-c90e36897405",
   "metadata": {},
   "source": [
    " ### Trivial Predictor (Mean)"
   ]
  },
  {
   "cell_type": "code",
   "execution_count": 33,
   "id": "96b75cb2-4864-436f-b205-529d31f73038",
   "metadata": {},
   "outputs": [
    {
     "name": "stdout",
     "output_type": "stream",
     "text": [
      "\n",
      "Mean quality in training data (Trivial Predictor Value): 5.8178\n"
     ]
    }
   ],
   "source": [
    "# Calculate the mean quality from the TRAINING data\n",
    "# The trivial predictor always predicts this mean value\n",
    "y_train_mean = y_train.mean()\n",
    "print(f\"\\nMean quality in training data (Trivial Predictor Value): {y_train_mean:.4f}\")\n",
    "\n",
    "# Trivial predictions for the validation set\n",
    "trivial_predictions = np.full_like(y_val_np, y_train_mean)"
   ]
  },
  {
   "cell_type": "markdown",
   "id": "9c2a596a-a004-4f4e-8b72-0462ae36a9c0",
   "metadata": {},
   "source": [
    " ### 5.1. Mean Absolute Error (MAE)"
   ]
  },
  {
   "cell_type": "code",
   "execution_count": 34,
   "id": "16d986a5-13c8-4fb9-a567-27f11021b407",
   "metadata": {},
   "outputs": [
    {
     "name": "stdout",
     "output_type": "stream",
     "text": [
      "Model Mean Absolute Error (MAE) on Validation Set: 0.5502\n",
      "Trivial Predictor MAE on Validation Set: 0.6687\n",
      "Model MAE vs Trivial MAE: 0.5502 vs 0.6687\n",
      "-> Model performs better than the trivial predictor (lower MAE).\n"
     ]
    }
   ],
   "source": [
    "# Model MAE\n",
    "model_mae = np.abs(y_val_np - val_predictions).mean()\n",
    "print(f\"Model Mean Absolute Error (MAE) on Validation Set: {model_mae:.4f}\")\n",
    "\n",
    "# Trivial Predictor MAE\n",
    "trivial_mae = np.abs(y_val_np - trivial_predictions).mean()\n",
    "print(f\"Trivial Predictor MAE on Validation Set: {trivial_mae:.4f}\")\n",
    "\n",
    "# Compare\n",
    "print(f\"Model MAE vs Trivial MAE: {model_mae:.4f} vs {trivial_mae:.4f}\")\n",
    "if model_mae < trivial_mae:\n",
    "    print(\"-> Model performs better than the trivial predictor (lower MAE).\")\n",
    "elif model_mae > trivial_mae:\n",
    "     print(\"-> Model performs worse than the trivial predictor (higher MAE).\")\n",
    "else:\n",
    "    print(\"-> Model performs similarly to the trivial predictor (equal MAE).\")"
   ]
  },
  {
   "cell_type": "markdown",
   "id": "744bcc82-28e4-424f-9973-ff65a2832253",
   "metadata": {},
   "source": [
    " ### 5.2. Classification by Rounding (Accuracy)"
   ]
  },
  {
   "cell_type": "code",
   "execution_count": 35,
   "id": "aaf8483d-2934-4f8f-b7cc-042dfb4b8d4e",
   "metadata": {},
   "outputs": [
    {
     "name": "stdout",
     "output_type": "stream",
     "text": [
      "\n",
      "Model Accuracy (by rounding) on Validation Set: 0.5469\n",
      "Trivial Predictor Accuracy (by rounding) on Validation Set: 0.4454\n",
      "Random Predictor Accuracy (1/7): 0.1429\n",
      "Model Accuracy vs Trivial Accuracy vs Random Accuracy: 0.5469 vs 0.4454 vs 0.1429\n",
      "-> Model performs better than the trivial predictor (higher accuracy).\n",
      "-> Model performs better than a random predictor.\n"
     ]
    }
   ],
   "source": [
    "# Round predictions and actual values to the nearest integer (1-7)\n",
    "# Note: quality is already integers, but predictions are floats. We round predictions.\n",
    "# We also might want to clip predictions to the valid range [1, 7], though not strictly required by prompt.\n",
    "# Let's round the actual quality values too, in case there were floating point issues,\n",
    "# although the dataset description says they are integers 1-7.\n",
    "rounded_predictions = np.round(val_predictions)\n",
    "rounded_actual = np.round(y_val_np)\n",
    "\n",
    "# Calculate accuracy: proportion of predictions that exactly match the rounded actual quality\n",
    "# Check for values outside the 1-7 range (optional but good practice)\n",
    "# print(f\"Min/Max rounded predictions: {rounded_predictions.min()}/{rounded_predictions.max()}\")\n",
    "# print(f\"Min/Max rounded actual: {rounded_actual.min()}/{rounded_actual.max()}\")\n",
    "\n",
    "# Clip to 1-7 range if desired (e.g., rounded_predictions = np.clip(rounded_predictions, 1, 7))\n",
    "# For accuracy calculation based on exact match, clipping might change the result slightly.\n",
    "# Let's calculate accuracy *before* clipping, as the comparison is against the rounded target.\n",
    "\n",
    "model_accuracy = (rounded_predictions == rounded_actual).mean()\n",
    "print(f\"\\nModel Accuracy (by rounding) on Validation Set: {model_accuracy:.4f}\")\n",
    "\n",
    "# Trivial Predictor Accuracy (by rounding)\n",
    "# The trivial predictor always predicts y_train_mean. We round this mean and compare to rounded actuals.\n",
    "rounded_trivial_prediction = np.round(y_train_mean)\n",
    "trivial_accuracy = (rounded_trivial_prediction == rounded_actual).mean()\n",
    "print(f\"Trivial Predictor Accuracy (by rounding) on Validation Set: {trivial_accuracy:.4f}\")\n",
    "\n",
    "# Random Predictor Accuracy (just for comparison context)\n",
    "# There are 7 classes (1-7). A random guess has a 1/7 probability of being correct.\n",
    "random_accuracy = 1/7\n",
    "print(f\"Random Predictor Accuracy (1/7): {random_accuracy:.4f}\")\n",
    "\n",
    "\n",
    "# Compare\n",
    "print(f\"Model Accuracy vs Trivial Accuracy vs Random Accuracy: {model_accuracy:.4f} vs {trivial_accuracy:.4f} vs {random_accuracy:.4f}\")\n",
    "if model_accuracy > trivial_accuracy:\n",
    "    print(\"-> Model performs better than the trivial predictor (higher accuracy).\")\n",
    "elif model_accuracy < trivial_accuracy:\n",
    "     print(\"-> Model performs worse than the trivial predictor (lower accuracy).\")\n",
    "else:\n",
    "    print(\"-> Model performs similarly to the trivial predictor (equal accuracy).\")\n",
    "\n",
    "if model_accuracy > random_accuracy:\n",
    "     print(\"-> Model performs better than a random predictor.\")\n",
    "else:\n",
    "     print(\"-> Model performs similarly to or worse than a random predictor.\")"
   ]
  },
  {
   "cell_type": "markdown",
   "id": "786bb266-c72e-4d16-afe4-29f2a4fcaa17",
   "metadata": {},
   "source": [
    " ### 5.3. Correlation"
   ]
  },
  {
   "cell_type": "code",
   "execution_count": 36,
   "id": "0061ffd6-84f2-488f-9762-0c0c5ca56577",
   "metadata": {},
   "outputs": [
    {
     "name": "stdout",
     "output_type": "stream",
     "text": [
      "\n",
      "Correlation between Model Predictions and Actual Quality: 0.5757\n",
      "Trivial and Random predictors are expected to have correlation close to 0.\n"
     ]
    }
   ],
   "source": [
    "# Calculate Pearson correlation coefficient between predictions and actual values\n",
    "# pearsonr returns (correlation_coefficient, p_value)\n",
    "correlation, _ = pearsonr(y_val_np, val_predictions)\n",
    "print(f\"\\nCorrelation between Model Predictions and Actual Quality: {correlation:.4f}\")\n",
    "\n",
    "# Correlation for Trivial and Random Predictors:\n",
    "# A constant prediction (trivial) has zero correlation with the target variable (unless the target is also constant).\n",
    "# Random predictions would also ideally have zero correlation with the target.\n",
    "print(\"Trivial and Random predictors are expected to have correlation close to 0.\")"
   ]
  }
 ],
 "metadata": {
  "kernelspec": {
   "display_name": ".venv",
   "language": "python",
   "name": "python3"
  },
  "language_info": {
   "codemirror_mode": {
    "name": "ipython",
    "version": 3
   },
   "file_extension": ".py",
   "mimetype": "text/x-python",
   "name": "python",
   "nbconvert_exporter": "python",
   "pygments_lexer": "ipython3",
   "version": "3.13.2"
  }
 },
 "nbformat": 4,
 "nbformat_minor": 5
}
